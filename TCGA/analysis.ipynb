{
 "cells": [
  {
   "cell_type": "code",
   "execution_count": 80,
   "metadata": {},
   "outputs": [
    {
     "name": "stdout",
     "output_type": "stream",
     "text": [
      "Top Differentially Expressed Genes in Deleterious Mutation:\n",
      "                  gene_id  diff_expression_deleterious  zscore_deleterious\n",
      "8393   ENSG00000143434.16                    13.157091            0.018211\n",
      "12062  ENSG00000167291.16                    12.817516            0.017711\n",
      "1568   ENSG00000082458.12                    12.676184            0.017503\n",
      "11708  ENSG00000165905.18                    12.157907            0.016741\n",
      "12819  ENSG00000170430.10                    11.030511            0.015083\n",
      "16993  ENSG00000196141.14                    11.009963            0.015053\n",
      "2731   ENSG00000102935.12                    10.842523            0.014806\n",
      "128    ENSG00000006194.10                    10.640413            0.014509\n",
      "6797   ENSG00000133818.14                    10.537445            0.014358\n",
      "10137  ENSG00000157800.18                    10.112622            0.013733\n",
      "\n",
      "Top Differentially Expressed Genes in V617F Mutation:\n",
      "                  gene_id  diff_expression_v617f  zscore_v617f\n",
      "17116  ENSG00000196465.10              20.407021      0.052353\n",
      "6658   ENSG00000132792.19              12.828284      0.032143\n",
      "17767  ENSG00000198546.15               8.153773      0.019677\n",
      "30730   ENSG00000232368.1               8.020408      0.019321\n",
      "2417   ENSG00000100983.12               7.505861      0.017949\n",
      "20255  ENSG00000205726.15               6.182482      0.014420\n",
      "14092  ENSG00000176531.10               5.746250      0.013256\n",
      "13969  ENSG00000175886.10               5.590675      0.012841\n",
      "39470   ENSG00000251062.1               5.546750      0.012724\n",
      "17813  ENSG00000198682.13               4.965802      0.011175\n"
     ]
    }
   ],
   "source": [
    "import pandas as pd\n",
    "import numpy as np\n",
    "from scipy.stats import zscore\n",
    "\n",
    "# Load the baseline, deleterious, and v617f datasets\n",
    "baseline_file = 'baseline/gene_mean_expression.tsv'\n",
    "deleterious_file = 'Deleterious/deleterious.tsv'\n",
    "v617f_file = 'V617F/v617f.tsv'\n",
    "\n",
    "# Load data with gene_id as string and other columns as float\n",
    "baseline_df = pd.read_csv(baseline_file, sep='\\s+', dtype={'gene_id': str}, engine='python')\n",
    "deleterious_df = pd.read_csv(deleterious_file, sep='\\s+', dtype={'gene_id': str}, engine='python')\n",
    "v617f_df = pd.read_csv(v617f_file, sep='\\s+', dtype={'gene_id': str}, engine='python')\n",
    "\n",
    "# Convert other columns to float\n",
    "for df in [baseline_df, deleterious_df, v617f_df]:\n",
    "    df.iloc[:, 1:] = df.iloc[:, 1:].astype(float)\n",
    "\n",
    "# Merge baseline with deleterious and v617f datasets on gene_id\n",
    "merged_deleterious = pd.merge(baseline_df, deleterious_df, on='gene_id', suffixes=('_baseline', '_deleterious'))\n",
    "merged_v617f = pd.merge(baseline_df, v617f_df, on='gene_id', suffixes=('_baseline', '_v617f'))\n",
    "\n",
    "# Calculate average expression for deleterious and v617f\n",
    "merged_deleterious['avg_deleterious'] = merged_deleterious.iloc[:, 3:].mean(axis=1)\n",
    "merged_v617f['avg_v617f'] = merged_v617f.iloc[:, 3:].mean(axis=1)\n",
    "\n",
    "# Perform differential expression (difference between average deleterious/v617f and baseline)\n",
    "merged_deleterious['diff_expression_deleterious'] = merged_deleterious['avg_deleterious'] - merged_deleterious['trimmed_mean_expression']\n",
    "merged_v617f['diff_expression_v617f'] = merged_v617f['avg_v617f'] - merged_v617f['trimmed_mean_expression']\n",
    "\n",
    "# Calculate Z-scores for differential expression\n",
    "merged_deleterious['zscore_deleterious'] = zscore(merged_deleterious['diff_expression_deleterious'])\n",
    "merged_v617f['zscore_v617f'] = zscore(merged_v617f['diff_expression_v617f'])\n",
    "\n",
    "# Consistency check (remove genes with high variance across cell lines)\n",
    "deleterious_variance = merged_deleterious.iloc[:, 3:-3].var(axis=1)\n",
    "v617f_variance = merged_v617f.iloc[:, 3:-3].var(axis=1)\n",
    "\n",
    "# Filter based on variance consistency\n",
    "consistent_deleterious = merged_deleterious[(deleterious_variance <= np.percentile(deleterious_variance, 85))]\n",
    "consistent_v617f = merged_v617f[(v617f_variance <= np.percentile(v617f_variance, 75))]\n",
    "\n",
    "# Display the most differentially expressed genes based on Z-scores\n",
    "top_deleterious = consistent_deleterious.sort_values(by='zscore_deleterious', ascending=False).head(10)\n",
    "top_v617f = consistent_v617f.sort_values(by='zscore_v617f', ascending=False).head(10)\n",
    "\n",
    "print(\"Top Differentially Expressed Genes in Deleterious Mutation:\")\n",
    "print(top_deleterious[['gene_id', 'diff_expression_deleterious', 'zscore_deleterious']])\n",
    "\n",
    "print(\"\\nTop Differentially Expressed Genes in V617F Mutation:\")\n",
    "print(top_v617f[['gene_id', 'diff_expression_v617f', 'zscore_v617f']])\n"
   ]
  }
 ],
 "metadata": {
  "kernelspec": {
   "display_name": "Python 3",
   "language": "python",
   "name": "python3"
  },
  "language_info": {
   "codemirror_mode": {
    "name": "ipython",
    "version": 3
   },
   "file_extension": ".py",
   "mimetype": "text/x-python",
   "name": "python",
   "nbconvert_exporter": "python",
   "pygments_lexer": "ipython3",
   "version": "3.9.6"
  }
 },
 "nbformat": 4,
 "nbformat_minor": 2
}
