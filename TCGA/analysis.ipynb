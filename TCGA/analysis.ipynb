{
 "cells": [
  {
   "cell_type": "code",
   "execution_count": 23,
   "metadata": {},
   "outputs": [
    {
     "name": "stdout",
     "output_type": "stream",
     "text": [
      "                                                          gene_id  v1.tsv  \\\n",
      "ENSG00000000003.15 70.1945 0.1158 0.117 0.2516 17.669725      NaN     NaN   \n",
      "ENSG00000000005.6  0.0000  0.0000 0.000 0.0000 0.000000       NaN     NaN   \n",
      "\n",
      "                                                          v2.tsv  v3.tsv  \\\n",
      "ENSG00000000003.15 70.1945 0.1158 0.117 0.2516 17.669725     NaN     NaN   \n",
      "ENSG00000000005.6  0.0000  0.0000 0.000 0.0000 0.000000      NaN     NaN   \n",
      "\n",
      "                                                          v4.tsv  average  \n",
      "ENSG00000000003.15 70.1945 0.1158 0.117 0.2516 17.669725     NaN      NaN  \n",
      "ENSG00000000005.6  0.0000  0.0000 0.000 0.0000 0.000000      NaN      NaN  \n"
     ]
    }
   ],
   "source": [
    "import pandas as pd\n",
    "import numpy as np\n",
    "\n",
    "\n",
    "baseline = pd.read_csv('baseline/gene_mean_expression.tsv', sep='\\t')\n",
    "deleterious = pd.read_csv('deleterious/deleterious.tsv', sep='\\t')\n",
    "v617f = pd.read_csv('v617f/v617f.tsv', sep='\\t')\n",
    "\n",
    "# print(baseline.head())\n",
    "# print(deleterious.head())\n",
    "print(v617f.head(2))"
   ]
  }
 ],
 "metadata": {
  "kernelspec": {
   "display_name": "Python 3",
   "language": "python",
   "name": "python3"
  },
  "language_info": {
   "codemirror_mode": {
    "name": "ipython",
    "version": 3
   },
   "file_extension": ".py",
   "mimetype": "text/x-python",
   "name": "python",
   "nbconvert_exporter": "python",
   "pygments_lexer": "ipython3",
   "version": "3.9.6"
  }
 },
 "nbformat": 4,
 "nbformat_minor": 2
}
