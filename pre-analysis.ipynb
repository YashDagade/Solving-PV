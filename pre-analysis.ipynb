{
 "cells": [
  {
   "cell_type": "code",
   "execution_count": 2,
   "metadata": {},
   "outputs": [
    {
     "data": {
      "text/plain": [
       "'manifest_sampled.txt'"
      ]
     },
     "execution_count": 2,
     "metadata": {},
     "output_type": "execute_result"
    }
   ],
   "source": [
    "import pandas as pd\n",
    "import random\n",
    "\n",
    "# Load the manifest file\n",
    "file_path = 'GDC Manifest Aug 22.txt'\n",
    "\n",
    "# Read the file into a DataFrame\n",
    "df = pd.read_csv(file_path, sep='\\t')\n",
    "\n",
    "# Randomly select 1000 rows\n",
    "df_sampled = df.sample(n=1000, random_state=42)\n",
    "\n",
    "# Save the sampled DataFrame to a new file\n",
    "output_path = 'manifest_sampled.txt'\n",
    "df_sampled.to_csv(output_path, sep='\\t', index=False)\n",
    "\n",
    "output_path\n"
   ]
  }
 ],
 "metadata": {
  "kernelspec": {
   "display_name": "Python 3",
   "language": "python",
   "name": "python3"
  },
  "language_info": {
   "codemirror_mode": {
    "name": "ipython",
    "version": 3
   },
   "file_extension": ".py",
   "mimetype": "text/x-python",
   "name": "python",
   "nbconvert_exporter": "python",
   "pygments_lexer": "ipython3",
   "version": "3.9.6"
  }
 },
 "nbformat": 4,
 "nbformat_minor": 2
}
